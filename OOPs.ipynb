{
  "nbformat": 4,
  "nbformat_minor": 0,
  "metadata": {
    "colab": {
      "provenance": []
    },
    "kernelspec": {
      "name": "python3",
      "display_name": "Python 3"
    },
    "language_info": {
      "name": "python"
    }
  },
  "cells": [
    {
      "cell_type": "code",
      "execution_count": null,
      "metadata": {
        "colab": {
          "base_uri": "https://localhost:8080/"
        },
        "id": "JhcIeJ9vOf9Q",
        "outputId": "1a78b763-a7eb-4b78-d98a-5d068e761113"
      },
      "outputs": [
        {
          "output_type": "stream",
          "name": "stdout",
          "text": [
            "<class 'list'>\n"
          ]
        }
      ],
      "source": [
        "L = [1,2,3]   #syntax to create an object\n",
        "print(type(L))"
      ]
    },
    {
      "cell_type": "code",
      "source": [
        "#syntax to create an object\n",
        "\n",
        "#obectname = classname()\n",
        "\n",
        "L = list()\n",
        "L"
      ],
      "metadata": {
        "colab": {
          "base_uri": "https://localhost:8080/"
        },
        "id": "GgE1l0jVOrQ_",
        "outputId": "cba8d534-f7b8-49eb-f404-a728e4306e59"
      },
      "execution_count": null,
      "outputs": [
        {
          "output_type": "execute_result",
          "data": {
            "text/plain": [
              "[]"
            ]
          },
          "metadata": {},
          "execution_count": 5
        }
      ]
    },
    {
      "cell_type": "code",
      "source": [
        "class Atm:\n",
        "   #constructor(special) ->\n",
        "   def __init__(self):\n",
        "    self.pin = \"\"\n",
        "    self.balance = 0\n",
        "    #self.menu()\n",
        "\n",
        "   def menu(self):\n",
        "    user_input = input(\"\"\"\n",
        "    Hi how can i help you ?\n",
        "    1. Press 1 to create pin\n",
        "    2. Press 2 to change pin\n",
        "    3. Press 3 to check balance\n",
        "    4. Press 4 to withdraw\n",
        "    5. Anything else to exit\n",
        "    \"\"\")\n",
        "\n",
        "    if user_input == \"1\":\n",
        "      #create  pin\n",
        "     self.create_pin()\n",
        "    elif user_input == \"2\":\n",
        "      #chagne pin\n",
        "     self.change_pin()\n",
        "    elif user_input == \"3\":\n",
        "      #check balance\n",
        "     self.check_balance()\n",
        "    elif user_input == \"4\":\n",
        "      #withdraw\n",
        "     self.withdraw()\n",
        "    else:\n",
        "      #exit\n",
        "     exit()\n",
        "\n",
        "   def create_pin(self): #corrected indentation\n",
        "      user_pin = input(\"enter your pin\")\n",
        "      self.pin = user_pin\n",
        "\n",
        "      user_balance = int(input(\"enter balance\"))\n",
        "      self.balance = user_balance\n",
        "\n",
        "      print(\"pin created successfully\")\n",
        "      self.menu()\n",
        "\n",
        "   def change_pin(self):\n",
        "    old_pin = input('enter old pin')\n",
        "\n",
        "    if old_pin == self.pin:\n",
        "      #let him change the pin\n",
        "      new_pin = input('enter new pin')\n",
        "      self.pin = new_pin\n",
        "      print('pin change successfully')\n",
        "      self.menu()\n",
        "    else:\n",
        "      print('nai karne de skta re baba')\n",
        "      self.menu()\n",
        "\n",
        "   def check_balance(self):\n",
        "    user_pin = input('enter your pin')\n",
        "    if user_pin == self.pin:\n",
        "      print('your balance is ',self.balance)\n",
        "    else:\n",
        "      print('chal nikal yahan se')\n",
        "    self.menu()\n",
        "\n",
        "   def withdraw(self):\n",
        "     user_pin = input('enter the pin')\n",
        "     if user_pin == self.pin:\n",
        "      #allow to withdraw\n",
        "      amount = int(input('enter the amount'))\n",
        "      if amount <= self.balance:\n",
        "        self.balance = self.balance - amount\n",
        "        print('withdrawl successful.balance is ',self.balance)\n",
        "      else:\n",
        "        print('abe garib')\n",
        "     else:\n",
        "      print('sale chor')\n",
        "     self.menu()\n"
      ],
      "metadata": {
        "id": "11wMbo0jS1Zp"
      },
      "execution_count": null,
      "outputs": []
    },
    {
      "cell_type": "markdown",
      "source": [
        "Python has two type of classes\n",
        " 1. builtin class and\n",
        " 2. user defined class\n",
        "\n",
        "If a function is implemented in a class then it is called as **Method** and if a function is exiting independent outside of the class then it is called as **Function**"
      ],
      "metadata": {
        "id": "oGX8kCQYJuJ6"
      }
    },
    {
      "cell_type": "code",
      "source": [
        "obj = Atm() # object  of class Atm\n",
        "print(type(obj))"
      ],
      "metadata": {
        "colab": {
          "base_uri": "https://localhost:8080/"
        },
        "id": "erdvOrYVI2We",
        "outputId": "6e272e64-d767-49dc-c2ca-f16dc53b9c0e"
      },
      "execution_count": null,
      "outputs": [
        {
          "output_type": "stream",
          "name": "stdout",
          "text": [
            "<class '__main__.Atm'>\n"
          ]
        }
      ]
    },
    {
      "cell_type": "code",
      "source": [
        "L = [1,2,3]\n",
        "len(L) #function ->because it is outside the list class\n",
        "L.append() #method -> because it is implemented inside the list class"
      ],
      "metadata": {
        "colab": {
          "base_uri": "https://localhost:8080/"
        },
        "id": "RDh3AhfiJDyx",
        "outputId": "14163510-1aa8-4863-cd08-a1c6facd1d7c"
      },
      "execution_count": null,
      "outputs": [
        {
          "output_type": "execute_result",
          "data": {
            "text/plain": [
              "3"
            ]
          },
          "metadata": {},
          "execution_count": 7
        }
      ]
    },
    {
      "cell_type": "code",
      "source": [
        "print(obj.balance)"
      ],
      "metadata": {
        "colab": {
          "base_uri": "https://localhost:8080/"
        },
        "id": "PpgTbaUkJ7xW",
        "outputId": "625d3413-7c1a-4d1f-a6ae-f47f1901f4ee"
      },
      "execution_count": null,
      "outputs": [
        {
          "output_type": "stream",
          "name": "stdout",
          "text": [
            "0\n"
          ]
        }
      ]
    },
    {
      "cell_type": "code",
      "source": [
        "class Fraction:\n",
        "  #parameterized constructor\n",
        "  def __init__(self,x,y):\n",
        "    self.num = x\n",
        "    self.den = y\n",
        "    #print(self.num)\n",
        "  def __str__(self):\n",
        "    return '{}/{}'.format(self.num,self.den)\n",
        "\n",
        "  def __add__(self,other):\n",
        "    new_num = self.num*other.den + other.num*self.den\n",
        "    new_den = self.den*other.den\n",
        "\n",
        "    return '{}/{}'.format(new_num,new_den)\n",
        "  def __sub__(self,other):\n",
        "    new_num = self.num*other.den - other.num*self.den\n",
        "    new_den = self.den*other.den\n",
        "\n",
        "    return '{}/{}'.format(new_num,new_den)\n",
        "\n",
        "  def __mul__(self,other):\n",
        "    new_num = self.num*other.num\n",
        "    new_den = self.den*other.den\n",
        "\n",
        "    return '{}/{}'.format(new_num,new_den)\n",
        "  def __truediv__(self,other):\n",
        "    new_num = self.num*other.den\n",
        "    new_den = self.den*other.num\n",
        "\n",
        "    return '{}/{}'.format(new_num,new_den)\n",
        "\n",
        "  def convert_to_decimal(self): #this is non magic method\n",
        "    return self.num/self.den"
      ],
      "metadata": {
        "id": "h39NPUJKYqfO"
      },
      "execution_count": null,
      "outputs": []
    },
    {
      "cell_type": "code",
      "source": [
        "fr1 = Fraction(3,4)\n",
        "fr2 = Fraction(1,2)"
      ],
      "metadata": {
        "id": "MFdNZPOVcnq7"
      },
      "execution_count": null,
      "outputs": []
    },
    {
      "cell_type": "code",
      "source": [
        "print(fr1)  #call the __str__ constructor"
      ],
      "metadata": {
        "colab": {
          "base_uri": "https://localhost:8080/"
        },
        "id": "DhaKydnOcrzq",
        "outputId": "fcaf3e48-935c-4860-d808-266f8d8b72dd"
      },
      "execution_count": null,
      "outputs": [
        {
          "output_type": "stream",
          "name": "stdout",
          "text": [
            "3/4\n"
          ]
        }
      ]
    },
    {
      "cell_type": "code",
      "source": [
        "fr1.convert_to_decimal()"
      ],
      "metadata": {
        "colab": {
          "base_uri": "https://localhost:8080/"
        },
        "id": "KlDpoSKngahi",
        "outputId": "8300fb16-0cad-414f-826b-9d25f833b6c9"
      },
      "execution_count": null,
      "outputs": [
        {
          "output_type": "execute_result",
          "data": {
            "text/plain": [
              "0.75"
            ]
          },
          "metadata": {},
          "execution_count": 27
        }
      ]
    },
    {
      "cell_type": "code",
      "source": [
        "print(fr1+fr2)"
      ],
      "metadata": {
        "colab": {
          "base_uri": "https://localhost:8080/"
        },
        "id": "Eso9CmL5dR58",
        "outputId": "ce0f07aa-0d71-4290-8253-4c13d60bd090"
      },
      "execution_count": null,
      "outputs": [
        {
          "output_type": "stream",
          "name": "stdout",
          "text": [
            "10/8\n"
          ]
        }
      ]
    },
    {
      "cell_type": "markdown",
      "source": [
        "OR we can also do it without add constructor"
      ],
      "metadata": {
        "id": "ClBti05UfDnP"
      }
    },
    {
      "cell_type": "code",
      "source": [
        "class Fraction:\n",
        "    # Parameterized constructor\n",
        "    def __init__(self, x, y):\n",
        "        self.num = x\n",
        "        self.den = y\n",
        "\n",
        "    def __str__(self):\n",
        "        return '{}/{}'.format(self.num, self.den)\n",
        "\n",
        "    # Custom method for addition\n",
        "    def add(self, other):\n",
        "        new_num = self.num * other.den + other.num * self.den\n",
        "        new_den = self.den * other.den\n",
        "        return Fraction(new_num, new_den)\n"
      ],
      "metadata": {
        "id": "oGFFCF54eSXH"
      },
      "execution_count": null,
      "outputs": []
    },
    {
      "cell_type": "code",
      "source": [
        "frac1 = Fraction(1, 2)\n",
        "frac2 = Fraction(1, 3)\n",
        "\n",
        "# Adding fractions using the custom method\n",
        "result = frac1.add(frac2)\n",
        "print(result)\n"
      ],
      "metadata": {
        "colab": {
          "base_uri": "https://localhost:8080/"
        },
        "id": "kHZKTcdjfdom",
        "outputId": "f05a17c5-2c3d-4d31-eb93-aae5fe001693"
      },
      "execution_count": null,
      "outputs": [
        {
          "output_type": "stream",
          "name": "stdout",
          "text": [
            "5/6\n"
          ]
        }
      ]
    },
    {
      "cell_type": "code",
      "source": [],
      "metadata": {
        "id": "wY-Lhh1Cfjwr"
      },
      "execution_count": null,
      "outputs": []
    }
  ]
}